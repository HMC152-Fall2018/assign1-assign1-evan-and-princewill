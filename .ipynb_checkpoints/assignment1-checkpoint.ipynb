{
 "cells": [
  {
   "cell_type": "code",
   "execution_count": 4,
   "metadata": {},
   "outputs": [],
   "source": [
    "# Put these at the top of every notebook, to get automatic reloading and inline plotting\n",
    "%reload_ext autoreload\n",
    "%autoreload 2\n",
    "%matplotlib inline"
   ]
  },
  {
   "cell_type": "code",
   "execution_count": 5,
   "metadata": {},
   "outputs": [
    {
     "name": "stderr",
     "output_type": "stream",
     "text": [
      "/home/pokorafor/.local/lib/python3.6/site-packages/sklearn/ensemble/weight_boosting.py:29: DeprecationWarning: numpy.core.umath_tests is an internal NumPy module and should not be imported. It will be removed in a future NumPy release.\n",
      "  from numpy.core.umath_tests import inner1d\n"
     ]
    }
   ],
   "source": [
    "# This file contains all the main external libs we'll use\n",
    "from fastai.imports import *\n",
    "from fastai.transforms import *\n",
    "from fastai.conv_learner import *\n",
    "from fastai.model import *\n",
    "from fastai.dataset import *\n",
    "from fastai.sgdr import *\n",
    "from fastai.plots import *"
   ]
  },
  {
   "cell_type": "code",
   "execution_count": 7,
   "metadata": {},
   "outputs": [],
   "source": [
    "# We will be basing our algorithm off of the resnet 34 architechture, with the last layer retrained\n",
    "\n",
    "arch = resnet34\n",
    "PATH = \"../data/\"\n",
    "sz = 224\n",
    "labels = f'{PATH}labels.csv'\n",
    "train_data = 'train'\n",
    "test_data = 'test'\n",
    "# generate validation IDs by getting the amount of training data and taking 20% of it\n",
    "val_idxs = get_cv_idxs(len(list(open(labels)))-1)\n"
   ]
  },
  {
   "cell_type": "code",
   "execution_count": 10,
   "metadata": {},
   "outputs": [],
   "source": [
    "# Load training data from CSV\n",
    "\n",
    "data = ImageClassifierData.from_csv(PATH, train_data, labels, test_name=test_data, tfms=tfms_from_model(arch, sz), val_idxs=val_idxs, suffix='.jpg')"
   ]
  },
  {
   "cell_type": "code",
   "execution_count": 12,
   "metadata": {},
   "outputs": [
    {
     "data": {
      "application/vnd.jupyter.widget-view+json": {
       "model_id": "7ae83669b2234998a13886e7c88d7fb0",
       "version_major": 2,
       "version_minor": 0
      },
      "text/plain": [
       "HBox(children=(IntProgress(value=0, description='Epoch', max=10), HTML(value='')))"
      ]
     },
     "metadata": {},
     "output_type": "display_data"
    },
    {
     "name": "stdout",
     "output_type": "stream",
     "text": [
      "epoch      trn_loss   val_loss   accuracy   \n",
      "    0      2.09504    1.017724   0.76272   \n",
      "    1      1.066506   0.691849   0.817025  \n",
      "    2      0.785126   0.589406   0.818982  \n",
      "    3      0.653029   0.554592   0.824853  \n",
      "    4      0.570594   0.536856   0.825832  \n",
      "    5      0.497756   0.530244   0.827789  \n",
      "    6      0.466969   0.513186   0.83953   \n",
      "    7      0.432984   0.50915    0.830235  \n",
      "    8      0.393779   0.505017   0.830235  \n",
      "    9      0.37512    0.502373   0.836595  \n",
      "\n"
     ]
    },
    {
     "data": {
      "text/plain": [
       "[array([0.50237]), 0.8365949120540208]"
      ]
     },
     "execution_count": 12,
     "metadata": {},
     "output_type": "execute_result"
    }
   ],
   "source": [
    "# Run initial learner (Hello World)\n",
    "\n",
    "learn = ConvLearner.pretrained(arch, data, precompute=True)\n",
    "learn.fit(0.01, 10)"
   ]
  },
  {
   "cell_type": "code",
   "execution_count": 15,
   "metadata": {},
   "outputs": [
    {
     "data": {
      "application/vnd.jupyter.widget-view+json": {
       "model_id": "6f86930bf6ac4c13a682b4396958e11a",
       "version_major": 2,
       "version_minor": 0
      },
      "text/plain": [
       "HBox(children=(IntProgress(value=0, description='Epoch', max=1), HTML(value='')))"
      ]
     },
     "metadata": {},
     "output_type": "display_data"
    },
    {
     "name": "stdout",
     "output_type": "stream",
     "text": [
      " 81%|████████▏ | 104/128 [00:02<00:00, 45.40it/s, loss=3.48]\n"
     ]
    }
   ],
   "source": [
    "# Now that we have verified our training works, we will find a good learning rate\n",
    "\n",
    "learn = ConvLearner.pretrained(arch, data, precompute=True)\n",
    "learn.lr_find()"
   ]
  },
  {
   "cell_type": "code",
   "execution_count": 16,
   "metadata": {},
   "outputs": [
    {
     "data": {
      "image/png": "[encoded data removed]",
      "text/plain": [
       "<Figure size 432x288 with 1 Axes>"
      ]
     },
     "metadata": {
      "needs_background": "light"
     },
     "output_type": "display_data"
    }
   ],
   "source": [
    "# display our learning rate graph\n",
    "\n",
    "learn.sched.plot()"
   ]
  },
  {
   "cell_type": "raw",
   "metadata": {},
   "source": [
    "Our learning rate is still improving at 0.3, so we will choose that as our learning rate.\n",
    "Now we will augment our data"
   ]
  },
  {
   "cell_type": "code",
   "execution_count": 20,
   "metadata": {},
   "outputs": [
    {
     "data": {
      "application/vnd.jupyter.widget-view+json": {
       "model_id": "d6fd916ed5c3463d9467a7eada7ad343",
       "version_major": 2,
       "version_minor": 0
      },
      "text/plain": [
       "HBox(children=(IntProgress(value=0, description='Epoch', max=3), HTML(value='')))"
      ]
     },
     "metadata": {},
     "output_type": "display_data"
    },
    {
     "name": "stdout",
     "output_type": "stream",
     "text": [
      "epoch      trn_loss   val_loss   accuracy   \n",
      "    0      1.363634   0.633279   0.801859  \n",
      "    1      0.996626   0.591816   0.823386  \n",
      "    2      0.880646   0.57745    0.82681   \n",
      "\n"
     ]
    },
    {
     "data": {
      "text/plain": [
       "[array([0.57745]), 0.826810175542029]"
      ]
     },
     "execution_count": 20,
     "metadata": {},
     "output_type": "execute_result"
    }
   ],
   "source": [
    "# We will use the transform_side_on transformation to do some data augmentation to improve our model\n",
    "# We choose a slightly lower zoom because we are dealing with a lot more variety than in the cats and dogs model\n",
    "\n",
    "tfms = tfms_from_model(arch, sz, aug_tfms=transforms_side_on, max_zoom=1.05)\n",
    "\n",
    "# Reloading the training data from CSV\n",
    "\n",
    "data = ImageClassifierData.from_csv(PATH, train_data, labels, test_name=test_data, tfms=tfms, val_idxs=val_idxs, suffix='.jpg')\n",
    "\n",
    "# We take the precompute option out since we don't want to precompute our transforms\n",
    "\n",
    "learn = ConvLearner.pretrained(arch, data)\n",
    "learn.fit(0.3, 3, cycle_len=1)"
   ]
  },
  {
   "cell_type": "code",
   "execution_count": 24,
   "metadata": {},
   "outputs": [],
   "source": [
    "# We will now compute our test data\n",
    "\n",
    "log_preds, y = learn.predict_with_targs(is_test=True) # use test dataset rather than validation dataset\n",
    "probs = np.exp(log_preds)"
   ]
  },
  {
   "cell_type": "code",
   "execution_count": 26,
   "metadata": {},
   "outputs": [],
   "source": [
    "# We will now format our submission for Kaggle\n",
    "df = pd.DataFrame(probs)\n",
    "\n",
    "#set the columm headers\n",
    "df.columns = data.classes\n",
    "\n",
    "#strip away folder name and file extension to get IDs\n",
    "df.insert(0, 'id', [o[5:-4] for o in data.test_ds.fnames])\n",
    "\n",
    "# Save CSV\n",
    "SUBM = '../out/'\n",
    "os.makedirs(SUBM, exist_ok=True)\n",
    "df.to_csv(f'{SUBM}dogbreeds.gz', compression='gzip', index=False)"
   ]
  },
  {
   "cell_type": "code",
   "execution_count": null,
   "metadata": {},
   "outputs": [],
   "source": []
  }
 ],
 "metadata": {
  "kernelspec": {
   "display_name": "Python 3",
   "language": "python",
   "name": "python3"
  },
  "language_info": {
   "codemirror_mode": {
    "name": "ipython",
    "version": 3
   },
   "file_extension": ".py",
   "mimetype": "text/x-python",
   "name": "python",
   "nbconvert_exporter": "python",
   "pygments_lexer": "ipython3",
   "version": "3.6.6"
  }
 },
 "nbformat": 4,
 "nbformat_minor": 2
}
